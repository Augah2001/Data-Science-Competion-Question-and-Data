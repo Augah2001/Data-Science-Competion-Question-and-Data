{
 "cells": [
  {
   "cell_type": "code",
   "execution_count": 187,
   "metadata": {},
   "outputs": [],
   "source": [
    "import numpy as np\n",
    "import pandas as pd\n",
    "\n",
    "import matplotlib.pyplot as plt\n",
    "\n"
   ]
  },
  {
   "cell_type": "code",
   "execution_count": 188,
   "metadata": {},
   "outputs": [
    {
     "data": {
      "text/html": [
       "<div>\n",
       "<style scoped>\n",
       "    .dataframe tbody tr th:only-of-type {\n",
       "        vertical-align: middle;\n",
       "    }\n",
       "\n",
       "    .dataframe tbody tr th {\n",
       "        vertical-align: top;\n",
       "    }\n",
       "\n",
       "    .dataframe thead th {\n",
       "        text-align: right;\n",
       "    }\n",
       "</style>\n",
       "<table border=\"1\" class=\"dataframe\">\n",
       "  <thead>\n",
       "    <tr style=\"text-align: right;\">\n",
       "      <th></th>\n",
       "      <th>Unnamed: 0</th>\n",
       "      <th>loan_id</th>\n",
       "      <th>gender</th>\n",
       "      <th>disbursemet_date</th>\n",
       "      <th>currency</th>\n",
       "      <th>country</th>\n",
       "      <th>sex</th>\n",
       "      <th>is_employed</th>\n",
       "      <th>job</th>\n",
       "      <th>location</th>\n",
       "      <th>loan_amount</th>\n",
       "      <th>number_of_defaults</th>\n",
       "      <th>outstanding_balance</th>\n",
       "      <th>interest_rate</th>\n",
       "      <th>age</th>\n",
       "      <th>number_of_defaults.1</th>\n",
       "      <th>remaining term</th>\n",
       "      <th>salary</th>\n",
       "      <th>marital_status</th>\n",
       "      <th>age.1</th>\n",
       "      <th>Loan Status</th>\n",
       "    </tr>\n",
       "  </thead>\n",
       "  <tbody>\n",
       "    <tr>\n",
       "      <th>0</th>\n",
       "      <td>0</td>\n",
       "      <td>8d05de78-ff32-46b1-aeb5-b3190f9c158a</td>\n",
       "      <td>female</td>\n",
       "      <td>2022 10 29</td>\n",
       "      <td>USD</td>\n",
       "      <td>Zimbabwe</td>\n",
       "      <td>female</td>\n",
       "      <td>True</td>\n",
       "      <td>Teacher</td>\n",
       "      <td>Beitbridge</td>\n",
       "      <td>39000.0</td>\n",
       "      <td>0</td>\n",
       "      <td>48653.011473</td>\n",
       "      <td>0.22</td>\n",
       "      <td>37</td>\n",
       "      <td>0</td>\n",
       "      <td>47</td>\n",
       "      <td>3230.038869</td>\n",
       "      <td>married</td>\n",
       "      <td>37</td>\n",
       "      <td>Did not default</td>\n",
       "    </tr>\n",
       "    <tr>\n",
       "      <th>1</th>\n",
       "      <td>1</td>\n",
       "      <td>368bf756-fcf2-4822-9612-f445d90b485b</td>\n",
       "      <td>other</td>\n",
       "      <td>2020 06 06</td>\n",
       "      <td>USD</td>\n",
       "      <td>Zimbabwe</td>\n",
       "      <td>other</td>\n",
       "      <td>True</td>\n",
       "      <td>Teacher</td>\n",
       "      <td>Harare</td>\n",
       "      <td>27000.0</td>\n",
       "      <td>2</td>\n",
       "      <td>28752.062237</td>\n",
       "      <td>0.20</td>\n",
       "      <td>43</td>\n",
       "      <td>2</td>\n",
       "      <td>62</td>\n",
       "      <td>3194.139103</td>\n",
       "      <td>single</td>\n",
       "      <td>43</td>\n",
       "      <td>Did not default</td>\n",
       "    </tr>\n",
       "    <tr>\n",
       "      <th>2</th>\n",
       "      <td>2</td>\n",
       "      <td>6e3be39e-49b5-45b5-aab6-c6556de53c6f</td>\n",
       "      <td>other</td>\n",
       "      <td>2023 09 29</td>\n",
       "      <td>USD</td>\n",
       "      <td>Zimbabwe</td>\n",
       "      <td>other</td>\n",
       "      <td>True</td>\n",
       "      <td>Nurse</td>\n",
       "      <td>Gweru</td>\n",
       "      <td>35000.0</td>\n",
       "      <td>1</td>\n",
       "      <td>44797.554126</td>\n",
       "      <td>0.22</td>\n",
       "      <td>43</td>\n",
       "      <td>1</td>\n",
       "      <td>57</td>\n",
       "      <td>3330.826656</td>\n",
       "      <td>married</td>\n",
       "      <td>43</td>\n",
       "      <td>Did not default</td>\n",
       "    </tr>\n",
       "    <tr>\n",
       "      <th>3</th>\n",
       "      <td>3</td>\n",
       "      <td>191c62f8-2211-49fe-ba91-43556b307871</td>\n",
       "      <td>female</td>\n",
       "      <td>2022 06 22</td>\n",
       "      <td>USD</td>\n",
       "      <td>Zimbabwe</td>\n",
       "      <td>female</td>\n",
       "      <td>True</td>\n",
       "      <td>Doctor</td>\n",
       "      <td>Rusape</td>\n",
       "      <td>24000.0</td>\n",
       "      <td>0</td>\n",
       "      <td>35681.496413</td>\n",
       "      <td>0.23</td>\n",
       "      <td>47</td>\n",
       "      <td>0</td>\n",
       "      <td>42</td>\n",
       "      <td>2246.797020</td>\n",
       "      <td>divorced</td>\n",
       "      <td>47</td>\n",
       "      <td>Did not default</td>\n",
       "    </tr>\n",
       "    <tr>\n",
       "      <th>4</th>\n",
       "      <td>4</td>\n",
       "      <td>477cd8a1-3b01-4623-9318-8cd6122a8346</td>\n",
       "      <td>male</td>\n",
       "      <td>2023 02 08</td>\n",
       "      <td>USD</td>\n",
       "      <td>Zimbabwe</td>\n",
       "      <td>male</td>\n",
       "      <td>True</td>\n",
       "      <td>Nurse</td>\n",
       "      <td>Chipinge</td>\n",
       "      <td>19000.0</td>\n",
       "      <td>0</td>\n",
       "      <td>34156.055882</td>\n",
       "      <td>0.20</td>\n",
       "      <td>42</td>\n",
       "      <td>0</td>\n",
       "      <td>45</td>\n",
       "      <td>2310.858441</td>\n",
       "      <td>married</td>\n",
       "      <td>42</td>\n",
       "      <td>Did not default</td>\n",
       "    </tr>\n",
       "  </tbody>\n",
       "</table>\n",
       "</div>"
      ],
      "text/plain": [
       "   Unnamed: 0                               loan_id  gender disbursemet_date  \\\n",
       "0           0  8d05de78-ff32-46b1-aeb5-b3190f9c158a  female       2022 10 29   \n",
       "1           1  368bf756-fcf2-4822-9612-f445d90b485b   other       2020 06 06   \n",
       "2           2  6e3be39e-49b5-45b5-aab6-c6556de53c6f   other       2023 09 29   \n",
       "3           3  191c62f8-2211-49fe-ba91-43556b307871  female       2022 06 22   \n",
       "4           4  477cd8a1-3b01-4623-9318-8cd6122a8346    male       2023 02 08   \n",
       "\n",
       "  currency   country     sex  is_employed      job    location  loan_amount  \\\n",
       "0      USD  Zimbabwe  female         True  Teacher  Beitbridge      39000.0   \n",
       "1      USD  Zimbabwe   other         True  Teacher      Harare      27000.0   \n",
       "2      USD  Zimbabwe   other         True    Nurse       Gweru      35000.0   \n",
       "3      USD  Zimbabwe  female         True   Doctor      Rusape      24000.0   \n",
       "4      USD  Zimbabwe    male         True    Nurse    Chipinge      19000.0   \n",
       "\n",
       "   number_of_defaults  outstanding_balance  interest_rate  age  \\\n",
       "0                   0         48653.011473           0.22   37   \n",
       "1                   2         28752.062237           0.20   43   \n",
       "2                   1         44797.554126           0.22   43   \n",
       "3                   0         35681.496413           0.23   47   \n",
       "4                   0         34156.055882           0.20   42   \n",
       "\n",
       "   number_of_defaults.1 remaining term       salary marital_status  age.1  \\\n",
       "0                     0             47  3230.038869        married     37   \n",
       "1                     2             62  3194.139103         single     43   \n",
       "2                     1             57  3330.826656        married     43   \n",
       "3                     0             42  2246.797020       divorced     47   \n",
       "4                     0             45  2310.858441        married     42   \n",
       "\n",
       "       Loan Status  \n",
       "0  Did not default  \n",
       "1  Did not default  \n",
       "2  Did not default  \n",
       "3  Did not default  \n",
       "4  Did not default  "
      ]
     },
     "execution_count": 188,
     "metadata": {},
     "output_type": "execute_result"
    }
   ],
   "source": [
    "df = pd.read_csv('data_science_competition_2024.csv')\n",
    "df.head()\n"
   ]
  },
  {
   "cell_type": "code",
   "execution_count": 189,
   "metadata": {},
   "outputs": [],
   "source": [
    "\n",
    "df.drop(['Unnamed: 0', 'loan_id'], axis=1, inplace=True)"
   ]
  },
  {
   "cell_type": "code",
   "execution_count": 190,
   "metadata": {},
   "outputs": [
    {
     "data": {
      "text/plain": [
       "(100000, 19)"
      ]
     },
     "execution_count": 190,
     "metadata": {},
     "output_type": "execute_result"
    }
   ],
   "source": [
    "df.shape"
   ]
  },
  {
   "cell_type": "code",
   "execution_count": 191,
   "metadata": {},
   "outputs": [
    {
     "data": {
      "text/plain": [
       "gender  disbursemet_date  currency  country   sex     is_employed  job                 location  loan_amount  number_of_defaults  outstanding_balance  interest_rate  age  number_of_defaults.1  remaining term  salary       marital_status  age.1  Loan Status    \n",
       "female  2020 01 01        USD       Zimbabwe  female  True         Accountant          Chipinge  11000.0      1                   27707.282179         0.20           52   1                     57              2167.382256  single          52     Did not default    1\n",
       "male    2023 11 15        USD       Zimbabwe  male    True         Engineer            Bulawayo  20000.0      0                   32870.547675         0.21           44   0                     54              2463.843177  married         44     Did not default    1\n",
       "                                                                   Nurse               Karoi     24000.0      0                   39885.927140         0.20           47   0                     49              2354.759052  married         47     Did not default    1\n",
       "                                                                                       Harare    43000.0      0                   45770.958679         0.21           52   0                     43              2331.548544  single          52     Did not default    1\n",
       "                                                                                                 32000.0      1                   53618.152515         0.21           50   1                     52              2557.684744                  50     Defaulted          1\n",
       "                                                                                                                                                                                                                                                                       ..\n",
       "        2020 01 20        USD       Zimbabwe  male    True         Nurse               Karoi     24000.0      0                   30047.410828         0.22           39   0                     43              2348.982210  divorced        39     Defaulted          1\n",
       "                                                                                       Chivhu    41000.0      0                   36301.553942         0.20           53   0                     44              2295.331869  single          53     Did not default    1\n",
       "                                                                                       Bulawayo  14000.0      0                   28316.704200         0.23           44   0                     50              2256.493747  married         44     Did not default    1\n",
       "                                                                   Engineer            Masvingo  16000.0      1                   30505.091103         0.22           41   1                     68              2941.071462  married         41     Did not default    1\n",
       "other   2023 12 31        USD       Zimbabwe  other   True         Software Developer  Masvingo  36000.0      0                   42325.393732         0.21           47   0                     55              2957.952499  married         47     Did not default    1\n",
       "Name: count, Length: 95204, dtype: int64"
      ]
     },
     "execution_count": 191,
     "metadata": {},
     "output_type": "execute_result"
    }
   ],
   "source": [
    "df.value_counts()"
   ]
  },
  {
   "cell_type": "code",
   "execution_count": 192,
   "metadata": {},
   "outputs": [
    {
     "data": {
      "text/plain": [
       "gender                     0\n",
       "disbursemet_date           0\n",
       "currency                   0\n",
       "country                  100\n",
       "sex                        0\n",
       "is_employed                0\n",
       "job                     4136\n",
       "location                 595\n",
       "loan_amount                0\n",
       "number_of_defaults         0\n",
       "outstanding_balance        0\n",
       "interest_rate              0\n",
       "age                        0\n",
       "number_of_defaults.1       0\n",
       "remaining term             0\n",
       "salary                     0\n",
       "marital_status             0\n",
       "age.1                      0\n",
       "Loan Status                0\n",
       "dtype: int64"
      ]
     },
     "execution_count": 192,
     "metadata": {},
     "output_type": "execute_result"
    }
   ],
   "source": [
    "df.isna().sum()"
   ]
  },
  {
   "cell_type": "code",
   "execution_count": 193,
   "metadata": {},
   "outputs": [
    {
     "data": {
      "text/plain": [
       "country\n",
       "Zimbabwe    99787\n",
       "zimbabwe      100\n",
       "Zim            13\n",
       "Name: count, dtype: int64"
      ]
     },
     "execution_count": 193,
     "metadata": {},
     "output_type": "execute_result"
    }
   ],
   "source": [
    "df.country.value_counts()"
   ]
  },
  {
   "cell_type": "code",
   "execution_count": 194,
   "metadata": {},
   "outputs": [],
   "source": [
    "# function to correct spelling\n",
    "def consistent_column_spelling(column, current_label, correctlabel):\n",
    "    df.loc[df[column]== current_label, column] = correctlabel"
   ]
  },
  {
   "cell_type": "code",
   "execution_count": 195,
   "metadata": {},
   "outputs": [
    {
     "data": {
      "text/plain": [
       "country\n",
       "zimbabwe    99900\n",
       "Name: count, dtype: int64"
      ]
     },
     "execution_count": 195,
     "metadata": {},
     "output_type": "execute_result"
    }
   ],
   "source": [
    "# make the country columns consistent by setting them to zimbabwe\n",
    "consistent_column_spelling('country', 'Zimbabwe', 'zimbabwe')\n",
    "consistent_column_spelling('country', 'Zim', 'zimbabwe')\n",
    "df.country.value_counts()"
   ]
  },
  {
   "cell_type": "code",
   "execution_count": 196,
   "metadata": {},
   "outputs": [
    {
     "data": {
      "text/plain": [
       "gender                   object\n",
       "disbursemet_date         object\n",
       "currency                 object\n",
       "country                  object\n",
       "sex                      object\n",
       "is_employed                bool\n",
       "job                      object\n",
       "location                 object\n",
       "loan_amount             float64\n",
       "number_of_defaults        int64\n",
       "outstanding_balance     float64\n",
       "interest_rate           float64\n",
       "age                       int64\n",
       "number_of_defaults.1      int64\n",
       "remaining term           object\n",
       "salary                  float64\n",
       "marital_status           object\n",
       "age.1                     int64\n",
       "Loan Status              object\n",
       "dtype: object"
      ]
     },
     "execution_count": 196,
     "metadata": {},
     "output_type": "execute_result"
    }
   ],
   "source": [
    "df.dtypes"
   ]
  },
  {
   "cell_type": "code",
   "execution_count": 197,
   "metadata": {},
   "outputs": [
    {
     "data": {
      "text/plain": [
       "job\n",
       "Engineer              16524\n",
       "Nurse                 15284\n",
       "Data Analyst          13204\n",
       "Doctor                12186\n",
       "Software Developer    11932\n",
       "Teacher                8950\n",
       "Accountant             7802\n",
       "SoftwareDeveloper      3564\n",
       "Data Scientist         3521\n",
       "Lawyer                 2862\n",
       "Data Scintist            35\n",
       "Name: count, dtype: int64"
      ]
     },
     "execution_count": 197,
     "metadata": {},
     "output_type": "execute_result"
    }
   ],
   "source": [
    "df.job.value_counts()\n",
    "\n",
    "\n"
   ]
  },
  {
   "cell_type": "code",
   "execution_count": 198,
   "metadata": {},
   "outputs": [
    {
     "data": {
      "text/plain": [
       "job\n",
       "Engineer              16524\n",
       "Software Developer    15496\n",
       "Nurse                 15284\n",
       "Data Analyst          13204\n",
       "Doctor                12186\n",
       "Teacher                8950\n",
       "Accountant             7802\n",
       "Data Scientist         3556\n",
       "Lawyer                 2862\n",
       "Name: count, dtype: int64"
      ]
     },
     "execution_count": 198,
     "metadata": {},
     "output_type": "execute_result"
    }
   ],
   "source": [
    "# consistent spelling value for job column\n",
    "consistent_column_spelling('job', 'Data Scintist', 'Data Scientist')\n",
    "consistent_column_spelling('job', 'SoftwareDeveloper', 'Software Developer')\n",
    "df.job.value_counts()"
   ]
  },
  {
   "cell_type": "code",
   "execution_count": 199,
   "metadata": {},
   "outputs": [
    {
     "data": {
      "text/plain": [
       "gender\n",
       "male      35028\n",
       "female    32685\n",
       "other     32287\n",
       "Name: count, dtype: int64"
      ]
     },
     "execution_count": 199,
     "metadata": {},
     "output_type": "execute_result"
    }
   ],
   "source": [
    "df.gender.value_counts()"
   ]
  },
  {
   "cell_type": "code",
   "execution_count": 200,
   "metadata": {},
   "outputs": [
    {
     "data": {
      "text/plain": [
       "currency\n",
       "USD     99980\n",
       "$USD       20\n",
       "Name: count, dtype: int64"
      ]
     },
     "execution_count": 200,
     "metadata": {},
     "output_type": "execute_result"
    }
   ],
   "source": [
    "df.currency.value_counts()"
   ]
  },
  {
   "cell_type": "code",
   "execution_count": 201,
   "metadata": {},
   "outputs": [],
   "source": [
    "consistent_column_spelling('currency', '$USD', 'USD')"
   ]
  },
  {
   "cell_type": "code",
   "execution_count": 202,
   "metadata": {},
   "outputs": [
    {
     "name": "stdout",
     "output_type": "stream",
     "text": [
      "location\n",
      "Harare                8338\n",
      "Bulawayo              8078\n",
      "Mutare                8062\n",
      "Gweru                 7803\n",
      "Masvingo              7476\n",
      "Marondera             7343\n",
      "Rusape                6378\n",
      "Chivhu                6257\n",
      "Plumtree              5431\n",
      "Beitbridge            5181\n",
      "Chipinge              4358\n",
      "Chimanimani           4296\n",
      "Kwekwe                3401\n",
      "Chiredzi              3123\n",
      "Kadoma                3049\n",
      "Nyanga                2099\n",
      "Karoi                 1850\n",
      "Shurugwi              1322\n",
      "Zvishavane            1276\n",
      "Gokwe                  901\n",
      "Kariba                 652\n",
      "Victoria Falls         211\n",
      "Redcliff               187\n",
      " Masvingo               48\n",
      "   Harare               44\n",
      "Hwange                  41\n",
      "Harare                  40\n",
      "   Mutare               39\n",
      " Mutare                 37\n",
      "Harare                  36\n",
      " Bulawayo               34\n",
      "   Gweru                34\n",
      "   Bulawayo             33\n",
      " Gweru                  33\n",
      "   Mutare               33\n",
      "   Harare               33\n",
      "Bulawayo                33\n",
      "   Masvingo             32\n",
      "   Beitbridge           32\n",
      "   Masvingo             32\n",
      "Gweru                   32\n",
      "Marondera               32\n",
      " Harare                 31\n",
      " Harare                 31\n",
      "Mutare                  31\n",
      "   Marondera            30\n",
      "Chivhu                  30\n",
      " Marondera              30\n",
      "Masvingo                30\n",
      "   Bulawayo             30\n",
      " Mutare                 30\n",
      "Mutare                  30\n",
      "   Gweru                30\n",
      "Gweru                   29\n",
      " Chivhu                 29\n",
      " Chivhu                 28\n",
      " Bulawayo               28\n",
      " Marondera              28\n",
      "Bulawayo                27\n",
      "   Marondera            27\n",
      "   Chivhu               27\n",
      "Rusape                  26\n",
      "Rusape                  25\n",
      "   Chivhu               25\n",
      "Masvingo                25\n",
      "Beitbridge              24\n",
      "   Rusape               24\n",
      " Plumtree               24\n",
      " Plumtree               24\n",
      "Marondera               23\n",
      " Masvingo               22\n",
      " Gweru                  22\n",
      "   Beitbridge           22\n",
      " Beitbridge             21\n",
      "   Chipinge             20\n",
      "Plumtree                20\n",
      "   Chimanimani          20\n",
      "   Plumtree             19\n",
      "   Rusape               18\n",
      " Chimanimani            18\n",
      "   Kwekwe               18\n",
      " Rusape                 18\n",
      "Plumtree                18\n",
      " Beitbridge             17\n",
      " Rusape                 17\n",
      "Kwekwe                  17\n",
      "Kwekwe                  17\n",
      " Chipinge               16\n",
      " Chimanimani            16\n",
      "   Plumtree             16\n",
      " Chipinge               16\n",
      "Chimanimani             16\n",
      " Kadoma                 16\n",
      " Kwekwe                 15\n",
      "   Chiredzi             15\n",
      "Chivhu                  15\n",
      "Kadoma                  15\n",
      " Kadoma                 15\n",
      "Chipinge                15\n",
      "   Chiredzi             14\n",
      "Beitbridge              14\n",
      " Chiredzi               14\n",
      " Kwekwe                 13\n",
      "Chiredzi                12\n",
      "   Kadoma               12\n",
      "   Chipinge             12\n",
      "   Chimanimani          11\n",
      "   Karoi                11\n",
      "Chimanimani             11\n",
      " Chiredzi               11\n",
      "Chipinge                10\n",
      "Chiredzi                10\n",
      "   Kwekwe               10\n",
      "Karoi                    9\n",
      "Shurugwi                 9\n",
      " Karoi                   9\n",
      "Nyanga                   9\n",
      " Nyanga                  8\n",
      "   Nyanga                8\n",
      "Nyanga                   8\n",
      " Shurugwi                7\n",
      " Karoi                   7\n",
      "   Gokwe                 7\n",
      "Karoi                    7\n",
      "   Karoi                 6\n",
      "Zvishavane               6\n",
      "Shurugwi                 6\n",
      " Zvishavane              6\n",
      " Gokwe                   6\n",
      "   Shurugwi              6\n",
      "Zvishavane               6\n",
      "   Kadoma                6\n",
      "Kadoma                   5\n",
      "   Nyanga                5\n",
      " Shurugwi                5\n",
      " Nyanga                  5\n",
      "   Zvishavane            4\n",
      "   Shurugwi              4\n",
      "Kariba                   4\n",
      "Kariba                   4\n",
      " Kariba                  3\n",
      " Kariba                  3\n",
      "   Victoria Falls        3\n",
      "   Redcliff              3\n",
      "   Kariba                3\n",
      "   Kariba                2\n",
      " Gokwe                   2\n",
      " Victoria Falls          2\n",
      "Gokwe                    2\n",
      " Zvishavane              2\n",
      "   Zvishavane            1\n",
      " Victoria Falls          1\n",
      " Redcliff                1\n",
      "Victoria Falls           1\n",
      "Victoria Falls           1\n",
      "   Gokwe                 1\n",
      "Gokwe                    1\n"
     ]
    }
   ],
   "source": [
    "pd.set_option('display.max_columns', None)\n",
    "print(df.location.value_counts().to_string())"
   ]
  },
  {
   "cell_type": "code",
   "execution_count": 203,
   "metadata": {},
   "outputs": [
    {
     "name": "stdout",
     "output_type": "stream",
     "text": [
      "location\n",
      "Harare            8553\n",
      "Bulawayo          8263\n",
      "Mutare            8262\n",
      "Gweru             7983\n",
      "Masvingo          7665\n",
      "Marondera         7513\n",
      "Rusape            6506\n",
      "Chivhu            6411\n",
      "Plumtree          5552\n",
      "Beitbridge        5311\n",
      "Chipinge          4447\n",
      "Chimanimani       4388\n",
      "Kwekwe            3491\n",
      "Chiredzi          3199\n",
      "Kadoma            3118\n",
      "Nyanga            2142\n",
      "Karoi             1899\n",
      "Shurugwi          1359\n",
      "Zvishavane        1301\n",
      "Gokwe              920\n",
      "Kariba             671\n",
      "Victoria Falls     219\n",
      "Redcliff           191\n",
      "Hwange              41\n",
      "Name: count, dtype: int64\n"
     ]
    }
   ],
   "source": [
    "df['location'] = df['location'].str.strip()\n",
    "\n",
    "# convert lowercase\n",
    "df['location'] = df['location'].str.lower()\n",
    "\n",
    "# Create a dictionary to map incorrect variations to correct values\n",
    "mapping = {\n",
    "    'harare': 'Harare',\n",
    "    'bulawayo': 'Bulawayo',\n",
    "    'mutare': 'Mutare',\n",
    "    'gweru': 'Gweru',\n",
    "    'masvingo': 'Masvingo',\n",
    "    'marondera': 'Marondera',\n",
    "    'rusape': 'Rusape',\n",
    "    'chivhu': 'Chivhu',\n",
    "    'plumtree': 'Plumtree',\n",
    "    'beitbridge': 'Beitbridge',\n",
    "    'chipinge': 'Chipinge',\n",
    "    'chimanimani': 'Chimanimani',\n",
    "    'kwekwe': 'Kwekwe',\n",
    "    'chiredzi': 'Chiredzi',\n",
    "    'kadoma': 'Kadoma',\n",
    "    'nyanga': 'Nyanga',\n",
    "    'karoi': 'Karoi',\n",
    "    'shurugwi': 'Shurugwi',\n",
    "    'zvishavane': 'Zvishavane',\n",
    "    'gokwe': 'Gokwe',\n",
    "    'kariba': 'Kariba',\n",
    "    'victoria falls': 'Victoria Falls',\n",
    "    'redcliff': 'Redcliff',\n",
    "    'hwange': 'Hwange'\n",
    "}\n",
    "\n",
    "# Replace incorrect values using the mapping dictionary\n",
    "df['location'] = df['location'].replace(mapping)\n",
    "\n",
    "\n",
    "print(df['location'].value_counts())"
   ]
  },
  {
   "cell_type": "code",
   "execution_count": 204,
   "metadata": {},
   "outputs": [
    {
     "name": "stdout",
     "output_type": "stream",
     "text": [
      "remaining term\n",
      "51       3329\n",
      "49       3321\n",
      "53       3314\n",
      "54       3276\n",
      "50       3220\n",
      "52       3205\n",
      "55       3109\n",
      "47       3103\n",
      "48       3043\n",
      "46       2983\n",
      "56       2963\n",
      "57       2960\n",
      "58       2780\n",
      "59       2764\n",
      "45       2745\n",
      "44       2620\n",
      "60       2549\n",
      "43       2463\n",
      "61       2391\n",
      "42       2337\n",
      "62       2216\n",
      "41       2118\n",
      "63       2010\n",
      "40       1941\n",
      "64       1875\n",
      "65       1806\n",
      "39       1712\n",
      "66       1556\n",
      "38       1522\n",
      "67       1487\n",
      "37       1374\n",
      "68       1289\n",
      "36       1222\n",
      "69       1135\n",
      "70       1074\n",
      "35       1023\n",
      "71        981\n",
      "34        929\n",
      "72        850\n",
      "33        776\n",
      "73        761\n",
      "74        695\n",
      "32        613\n",
      "75        557\n",
      "31        533\n",
      "76        501\n",
      "30        464\n",
      "77        418\n",
      "78        383\n",
      "29        367\n",
      "28        335\n",
      "79        318\n",
      "80        281\n",
      "27        243\n",
      "81        229\n",
      "82        209\n",
      "83        196\n",
      "26        177\n",
      "25        159\n",
      "84        154\n",
      "24        126\n",
      "85        112\n",
      "86        110\n",
      "23         98\n",
      "88         87\n",
      "22         82\n",
      "87         78\n",
      "48_        77\n",
      "50         74\n",
      "55_        74\n",
      "50_        72\n",
      "47         68\n",
      "51         64\n",
      "52         64\n",
      "89         64\n",
      "56         64\n",
      "59_        63\n",
      "57         63\n",
      "49_        61\n",
      "51_        60\n",
      "21         60\n",
      "49         60\n",
      "53         60\n",
      "45_        59\n",
      "52_        59\n",
      "47_        59\n",
      "56_        58\n",
      "55         58\n",
      "46_        57\n",
      "53_        57\n",
      "57_        56\n",
      "58_        56\n",
      "54         54\n",
      "62         54\n",
      "58         54\n",
      "60         54\n",
      "46         53\n",
      "59         52\n",
      "44_        52\n",
      "44         51\n",
      "20         51\n",
      "43         50\n",
      "91         49\n",
      "54_        49\n",
      "60_        48\n",
      "90         47\n",
      "48         47\n",
      "39         45\n",
      "63_        44\n",
      "43_        44\n",
      "42_        44\n",
      "45         44\n",
      "61_        43\n",
      "41_        43\n",
      "61         43\n",
      "64         42\n",
      "40_        38\n",
      "65         38\n",
      "39_        38\n",
      "92         38\n",
      "40         38\n",
      "62_        37\n",
      "42         36\n",
      "64_        36\n",
      "65_        35\n",
      "41         35\n",
      "67         34\n",
      "19         34\n",
      "18         31\n",
      "69_        30\n",
      "35_        29\n",
      "63         29\n",
      "66_        27\n",
      "93         27\n",
      "68_        27\n",
      "95         27\n",
      "38         26\n",
      "34_        26\n",
      "36         25\n",
      "66         25\n",
      "38_        25\n",
      "37_        25\n",
      "37         24\n",
      "67_        23\n",
      "69         22\n",
      "17         21\n",
      "34         21\n",
      "94         21\n",
      "71         20\n",
      "96         19\n",
      "70_        18\n",
      "32_        17\n",
      "36_        17\n",
      "16         17\n",
      "70         16\n",
      "97         16\n",
      "32         15\n",
      "68         15\n",
      "73_        14\n",
      "71_        14\n",
      "30         13\n",
      "72         13\n",
      "33_        13\n",
      "30_        13\n",
      "73         12\n",
      "77_        12\n",
      "74         12\n",
      "98         11\n",
      "74_        11\n",
      "102        11\n",
      "75         11\n",
      "15         10\n",
      "76         10\n",
      "99         10\n",
      "78_         9\n",
      "77          8\n",
      "31          8\n",
      "27_         8\n",
      "35          8\n",
      "72_         8\n",
      "31_         8\n",
      "76_         8\n",
      "82          8\n",
      "33          8\n",
      "9           7\n",
      "100         7\n",
      "80          7\n",
      "103         7\n",
      "27          7\n",
      "28          7\n",
      "14          7\n",
      "105         7\n",
      "11          7\n",
      "75_         7\n",
      "78          6\n",
      "29_         6\n",
      "84          6\n",
      "26          6\n",
      "88_         6\n",
      "86_         6\n",
      "29          5\n",
      "12          5\n",
      "80_         5\n",
      "81          4\n",
      "106         4\n",
      "79          4\n",
      "26_         4\n",
      "13          4\n",
      "19          3\n",
      "22          3\n",
      "86          3\n",
      "22_         3\n",
      "111         3\n",
      "81_         3\n",
      "79_         3\n",
      "19_         3\n",
      "28_         3\n",
      "101         3\n",
      "25_         3\n",
      "25          2\n",
      "21          2\n",
      "112         2\n",
      "10          2\n",
      "104         2\n",
      "18_         2\n",
      "20_         2\n",
      "89_         2\n",
      "91_         2\n",
      "83_         2\n",
      "82_         2\n",
      "107         2\n",
      "8           2\n",
      "85_         1\n",
      "17_         1\n",
      "114         1\n",
      "12_         1\n",
      "17          1\n",
      "85          1\n",
      "88          1\n",
      "84_         1\n",
      "16_         1\n",
      "5           1\n",
      "94          1\n",
      "13_         1\n",
      "90          1\n",
      "96          1\n",
      "14          1\n",
      "7           1\n",
      "2_          1\n",
      "83          1\n",
      "94_         1\n",
      "89          1\n",
      "0           1\n",
      "14_         1\n",
      "2           1\n",
      "116         1\n",
      "120         1\n",
      "108         1\n",
      "15          1\n",
      "93          1\n",
      "20          1\n",
      "90_         1\n"
     ]
    }
   ],
   "source": [
    "print(df['remaining term'].value_counts().to_string())"
   ]
  },
  {
   "cell_type": "code",
   "execution_count": 205,
   "metadata": {},
   "outputs": [
    {
     "data": {
      "text/plain": [
       "0        47\n",
       "1        62\n",
       "2        57\n",
       "3        42\n",
       "4        45\n",
       "         ..\n",
       "99995    29\n",
       "99996    57\n",
       "99997    53\n",
       "99998    59\n",
       "99999    47\n",
       "Name: remaining term, Length: 100000, dtype: int64"
      ]
     },
     "execution_count": 205,
     "metadata": {},
     "output_type": "execute_result"
    }
   ],
   "source": [
    "# Convert to string to handle non-numeric characters\n",
    "df['remaining term'] = df['remaining term'].astype(str)\n",
    "\n",
    "# Remove underscores and extra spaces\n",
    "df['remaining term'] = df['remaining term'].str.replace('_', '').str.strip()\n",
    "\n",
    "# Convert back to numeric if all values are intended to be numeric\n",
    "df['remaining term'] = pd.to_numeric(df['remaining term'], errors='coerce')\n",
    "\n",
    "\n",
    "df['remaining term']"
   ]
  },
  {
   "cell_type": "code",
   "execution_count": 206,
   "metadata": {},
   "outputs": [
    {
     "data": {
      "text/plain": [
       "marital_status\n",
       "married     44710\n",
       "divorced    26465\n",
       "single      25698\n",
       "             3127\n",
       "Name: count, dtype: int64"
      ]
     },
     "execution_count": 206,
     "metadata": {},
     "output_type": "execute_result"
    }
   ],
   "source": [
    "df.marital_status.value_counts()"
   ]
  },
  {
   "cell_type": "code",
   "execution_count": null,
   "metadata": {},
   "outputs": [],
   "source": []
  },
  {
   "cell_type": "code",
   "execution_count": 207,
   "metadata": {},
   "outputs": [
    {
     "data": {
      "text/plain": [
       "3127"
      ]
     },
     "execution_count": 207,
     "metadata": {},
     "output_type": "execute_result"
    }
   ],
   "source": [
    "#setting ' ' values of marital status to Nan to handle them easily later\n",
    "df.loc[df['marital_status'] == ' ', 'marital_status'] = None\n",
    "df.marital_status.isna().sum()"
   ]
  },
  {
   "cell_type": "code",
   "execution_count": 209,
   "metadata": {},
   "outputs": [
    {
     "data": {
      "text/plain": [
       "Loan Status\n",
       "Did not default    85134\n",
       "Defaulted          14866\n",
       "Name: count, dtype: int64"
      ]
     },
     "execution_count": 209,
     "metadata": {},
     "output_type": "execute_result"
    }
   ],
   "source": [
    "df['Loan Status'].value_counts()"
   ]
  },
  {
   "cell_type": "markdown",
   "metadata": {},
   "source": [
    "## Handle missing values"
   ]
  },
  {
   "cell_type": "code",
   "execution_count": 210,
   "metadata": {},
   "outputs": [
    {
     "data": {
      "text/plain": [
       "gender                     0\n",
       "disbursemet_date           0\n",
       "currency                   0\n",
       "country                  100\n",
       "sex                        0\n",
       "is_employed                0\n",
       "job                     4136\n",
       "location                 595\n",
       "loan_amount                0\n",
       "number_of_defaults         0\n",
       "outstanding_balance        0\n",
       "interest_rate              0\n",
       "age                        0\n",
       "number_of_defaults.1       0\n",
       "remaining term             0\n",
       "salary                     0\n",
       "marital_status          3127\n",
       "age.1                      0\n",
       "Loan Status                0\n",
       "dtype: int64"
      ]
     },
     "execution_count": 210,
     "metadata": {},
     "output_type": "execute_result"
    }
   ],
   "source": [
    "df.isna().sum()"
   ]
  },
  {
   "cell_type": "code",
   "execution_count": 213,
   "metadata": {},
   "outputs": [],
   "source": [
    "#since there is only one value zimbabwe for country column, we will fill NaNs to zimbabwe\n",
    "# and later remove the column in feature selection\n",
    "df.country.fillna('zimbabwe', inplace=True)"
   ]
  },
  {
   "cell_type": "code",
   "execution_count": null,
   "metadata": {},
   "outputs": [],
   "source": []
  }
 ],
 "metadata": {
  "kernelspec": {
   "display_name": "Data_Science_Competion_Question_and_Data-vvFreUkD",
   "language": "python",
   "name": "python3"
  },
  "language_info": {
   "codemirror_mode": {
    "name": "ipython",
    "version": 3
   },
   "file_extension": ".py",
   "mimetype": "text/x-python",
   "name": "python",
   "nbconvert_exporter": "python",
   "pygments_lexer": "ipython3",
   "version": "3.12.4"
  }
 },
 "nbformat": 4,
 "nbformat_minor": 2
}
